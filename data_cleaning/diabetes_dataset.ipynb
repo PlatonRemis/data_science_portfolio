{
 "cells": [
  {
   "cell_type": "code",
   "execution_count": 114,
   "id": "3f53c5e6",
   "metadata": {},
   "outputs": [],
   "source": [
    "import pandas as pd\n",
    "import numpy as np\n",
    "import seaborn as sns\n",
    "import matplotlib.pyplot as plt"
   ]
  },
  {
   "cell_type": "code",
   "execution_count": 115,
   "id": "2594eadd",
   "metadata": {},
   "outputs": [
    {
     "name": "stdout",
     "output_type": "stream",
     "text": [
      "<class 'pandas.core.frame.DataFrame'>\n",
      "RangeIndex: 778 entries, 0 to 777\n",
      "Data columns (total 10 columns):\n",
      " #   Column                    Non-Null Count  Dtype  \n",
      "---  ------                    --------------  -----  \n",
      " 0   Pregnancies               778 non-null    int64  \n",
      " 1   Glucose                   778 non-null    int64  \n",
      " 2   BloodPressure             778 non-null    int64  \n",
      " 3   SkinThickness             778 non-null    int64  \n",
      " 4   Insulin                   778 non-null    int64  \n",
      " 5   BMI                       778 non-null    float64\n",
      " 6   DiabetesPedigreeFunction  778 non-null    float64\n",
      " 7   Age                       778 non-null    int64  \n",
      " 8   Outcome                   778 non-null    int64  \n",
      " 9   Gender                    778 non-null    object \n",
      "dtypes: float64(2), int64(7), object(1)\n",
      "memory usage: 60.9+ KB\n"
     ]
    },
    {
     "data": {
      "text/html": [
       "<div>\n",
       "<style scoped>\n",
       "    .dataframe tbody tr th:only-of-type {\n",
       "        vertical-align: middle;\n",
       "    }\n",
       "\n",
       "    .dataframe tbody tr th {\n",
       "        vertical-align: top;\n",
       "    }\n",
       "\n",
       "    .dataframe thead th {\n",
       "        text-align: right;\n",
       "    }\n",
       "</style>\n",
       "<table border=\"1\" class=\"dataframe\">\n",
       "  <thead>\n",
       "    <tr style=\"text-align: right;\">\n",
       "      <th></th>\n",
       "      <th>Pregnancies</th>\n",
       "      <th>Glucose</th>\n",
       "      <th>BloodPressure</th>\n",
       "      <th>SkinThickness</th>\n",
       "      <th>Insulin</th>\n",
       "      <th>BMI</th>\n",
       "      <th>DiabetesPedigreeFunction</th>\n",
       "      <th>Age</th>\n",
       "      <th>Outcome</th>\n",
       "      <th>Gender</th>\n",
       "    </tr>\n",
       "  </thead>\n",
       "  <tbody>\n",
       "    <tr>\n",
       "      <th>0</th>\n",
       "      <td>6</td>\n",
       "      <td>98</td>\n",
       "      <td>58</td>\n",
       "      <td>33</td>\n",
       "      <td>190</td>\n",
       "      <td>34.0</td>\n",
       "      <td>0.430</td>\n",
       "      <td>43</td>\n",
       "      <td>0</td>\n",
       "      <td>Female</td>\n",
       "    </tr>\n",
       "    <tr>\n",
       "      <th>1</th>\n",
       "      <td>2</td>\n",
       "      <td>112</td>\n",
       "      <td>75</td>\n",
       "      <td>32</td>\n",
       "      <td>0</td>\n",
       "      <td>35.7</td>\n",
       "      <td>0.148</td>\n",
       "      <td>21</td>\n",
       "      <td>0</td>\n",
       "      <td>Female</td>\n",
       "    </tr>\n",
       "    <tr>\n",
       "      <th>2</th>\n",
       "      <td>2</td>\n",
       "      <td>108</td>\n",
       "      <td>64</td>\n",
       "      <td>0</td>\n",
       "      <td>0</td>\n",
       "      <td>30.8</td>\n",
       "      <td>0.158</td>\n",
       "      <td>21</td>\n",
       "      <td>0</td>\n",
       "      <td>Female</td>\n",
       "    </tr>\n",
       "    <tr>\n",
       "      <th>3</th>\n",
       "      <td>8</td>\n",
       "      <td>107</td>\n",
       "      <td>80</td>\n",
       "      <td>0</td>\n",
       "      <td>0</td>\n",
       "      <td>24.6</td>\n",
       "      <td>0.856</td>\n",
       "      <td>34</td>\n",
       "      <td>0</td>\n",
       "      <td>Female</td>\n",
       "    </tr>\n",
       "    <tr>\n",
       "      <th>4</th>\n",
       "      <td>7</td>\n",
       "      <td>136</td>\n",
       "      <td>90</td>\n",
       "      <td>0</td>\n",
       "      <td>0</td>\n",
       "      <td>29.9</td>\n",
       "      <td>0.210</td>\n",
       "      <td>50</td>\n",
       "      <td>0</td>\n",
       "      <td>Female</td>\n",
       "    </tr>\n",
       "  </tbody>\n",
       "</table>\n",
       "</div>"
      ],
      "text/plain": [
       "   Pregnancies  Glucose  BloodPressure  SkinThickness  Insulin   BMI  \\\n",
       "0            6       98             58             33      190  34.0   \n",
       "1            2      112             75             32        0  35.7   \n",
       "2            2      108             64              0        0  30.8   \n",
       "3            8      107             80              0        0  24.6   \n",
       "4            7      136             90              0        0  29.9   \n",
       "\n",
       "   DiabetesPedigreeFunction  Age  Outcome  Gender  \n",
       "0                     0.430   43        0  Female  \n",
       "1                     0.148   21        0  Female  \n",
       "2                     0.158   21        0  Female  \n",
       "3                     0.856   34        0  Female  \n",
       "4                     0.210   50        0  Female  "
      ]
     },
     "execution_count": 115,
     "metadata": {},
     "output_type": "execute_result"
    }
   ],
   "source": [
    "diabetes_data = pd.read_csv('data/diabetes_data.csv')\n",
    "diabetes_data.info()\n",
    "diabetes_data.head()"
   ]
  },
  {
   "cell_type": "code",
   "execution_count": 116,
   "id": "6765cc54",
   "metadata": {},
   "outputs": [
    {
     "name": "stdout",
     "output_type": "stream",
     "text": [
      "Total number of records: 768\n"
     ]
    }
   ],
   "source": [
    "diabetes_dedupped = diabetes_data.drop_duplicates()\n",
    "print(f'Total number of records: {diabetes_dedupped.shape[0]}')\n",
    "# New data frame without duplicates"
   ]
  },
  {
   "cell_type": "code",
   "execution_count": 117,
   "id": "baca3b67",
   "metadata": {},
   "outputs": [],
   "source": [
    "# Function to detect columns with low information, i.e. columns with 95% or more repeating values\n",
    "# or columns with 95% or more unique values\n",
    "def low_info_detect(df):\n",
    "    low_information_cols = [] \n",
    "    \n",
    "    for col in df.columns:\n",
    "\n",
    "        top_freq = df[col].value_counts(normalize=True).max()\n",
    "\n",
    "        nunique_ratio = df[col].nunique() / df[col].count()\n",
    "\n",
    "        if top_freq > 0.95:\n",
    "            low_information_cols.append(col)\n",
    "            print(f'{col}: {round(top_freq*100, 2)}% repeating values')\n",
    "\n",
    "        if nunique_ratio > 0.95:\n",
    "            low_information_cols.append(col)\n",
    "            print(f'{col}: {round(nunique_ratio*100, 2)}% unique values')\n",
    "    return low_information_cols"
   ]
  },
  {
   "cell_type": "code",
   "execution_count": 118,
   "id": "4344dd9e",
   "metadata": {},
   "outputs": [
    {
     "name": "stdout",
     "output_type": "stream",
     "text": [
      "Gender: 100.0% repeating values\n",
      "['Gender'] \n",
      "\n",
      "Resulting number of columns: 9\n"
     ]
    }
   ],
   "source": [
    "print(low_info_detect(diabetes_dedupped), '\\n')\n",
    "# We have same gender throughout our dataset, so we can drop it\n",
    "\n",
    "diabetes_clean = diabetes_dedupped.drop(['Gender'], axis=1)\n",
    "print(f'Resulting number of columns: {diabetes_clean.shape[1]}')"
   ]
  },
  {
   "cell_type": "code",
   "execution_count": 119,
   "id": "c7be9df4",
   "metadata": {},
   "outputs": [
    {
     "name": "stdout",
     "output_type": "stream",
     "text": [
      "<class 'pandas.core.frame.DataFrame'>\n",
      "Int64Index: 768 entries, 0 to 767\n",
      "Data columns (total 9 columns):\n",
      " #   Column                    Non-Null Count  Dtype  \n",
      "---  ------                    --------------  -----  \n",
      " 0   Pregnancies               768 non-null    int64  \n",
      " 1   Glucose                   763 non-null    float64\n",
      " 2   BloodPressure             733 non-null    float64\n",
      " 3   SkinThickness             541 non-null    float64\n",
      " 4   Insulin                   394 non-null    float64\n",
      " 5   BMI                       757 non-null    float64\n",
      " 6   DiabetesPedigreeFunction  768 non-null    float64\n",
      " 7   Age                       768 non-null    int64  \n",
      " 8   Outcome                   768 non-null    int64  \n",
      "dtypes: float64(6), int64(3)\n",
      "memory usage: 60.0 KB\n",
      "\n",
      "\n",
      "Missing values proportion:  0.49\n"
     ]
    }
   ],
   "source": [
    "# All columns have 768 non-null values, we will check for 0 values\n",
    "# in columns where we can't have 0\n",
    "for col in ['Glucose', 'BloodPressure', 'SkinThickness', 'Insulin', 'BMI']:\n",
    "    diabetes_clean[col] = diabetes_clean[col].replace(0, np.nan)\n",
    "\n",
    "# We can see that SkinThickness and Insulin have a lot of missing values\n",
    "diabetes_clean.info()\n",
    "print('\\n\\nMissing values proportion: ', round(diabetes_clean['Insulin'].isna().sum() / diabetes_clean.shape[0], 2))"
   ]
  },
  {
   "cell_type": "code",
   "execution_count": 120,
   "id": "ff30a56f",
   "metadata": {},
   "outputs": [
    {
     "name": "stdout",
     "output_type": "stream",
     "text": [
      "<class 'pandas.core.frame.DataFrame'>\n",
      "Int64Index: 768 entries, 0 to 767\n",
      "Data columns (total 8 columns):\n",
      " #   Column                    Non-Null Count  Dtype  \n",
      "---  ------                    --------------  -----  \n",
      " 0   Pregnancies               768 non-null    int64  \n",
      " 1   Glucose                   763 non-null    float64\n",
      " 2   BloodPressure             733 non-null    float64\n",
      " 3   SkinThickness             541 non-null    float64\n",
      " 4   BMI                       757 non-null    float64\n",
      " 5   DiabetesPedigreeFunction  768 non-null    float64\n",
      " 6   Age                       768 non-null    int64  \n",
      " 7   Outcome                   768 non-null    int64  \n",
      "dtypes: float64(5), int64(3)\n",
      "memory usage: 54.0 KB\n"
     ]
    }
   ],
   "source": [
    "# We will get rid of columns where missing values proportion is more than 0.4\n",
    "for col in ['Glucose', 'BloodPressure', 'SkinThickness', 'Insulin', 'BMI']:\n",
    "    if diabetes_clean[col].isna().sum() / diabetes_clean.shape[0] > 0.4:\n",
    "        diabetes_clean = diabetes_clean.drop(col, axis=1)\n",
    "        \n",
    "diabetes_clean.info()"
   ]
  },
  {
   "cell_type": "code",
   "execution_count": 121,
   "id": "4714cec8",
   "metadata": {},
   "outputs": [],
   "source": [
    "# Here I just created a color palette for my plots\n",
    "cmap = sns.color_palette(['#47009E', '#EBE700'])"
   ]
  },
  {
   "cell_type": "code",
   "execution_count": 122,
   "id": "5d308e83",
   "metadata": {},
   "outputs": [
    {
     "data": {
      "image/png": "[encoded data removed]",
      "text/plain": [
       "<Figure size 1600x800 with 1 Axes>"
      ]
     },
     "metadata": {},
     "output_type": "display_data"
    }
   ],
   "source": [
    "# Creating heatmap of missing values after our initial cleaning\n",
    "plt.figure(figsize=(16, 8))\n",
    "sns.heatmap(diabetes_clean.isnull(), cmap=cmap, cbar=False, yticklabels=100)\n",
    "\n",
    "plt.show()"
   ]
  },
  {
   "cell_type": "code",
   "execution_count": 123,
   "id": "11afd121",
   "metadata": {},
   "outputs": [
    {
     "name": "stdout",
     "output_type": "stream",
     "text": [
      "<class 'pandas.core.frame.DataFrame'>\n",
      "Int64Index: 761 entries, 0 to 767\n",
      "Data columns (total 8 columns):\n",
      " #   Column                    Non-Null Count  Dtype  \n",
      "---  ------                    --------------  -----  \n",
      " 0   Pregnancies               761 non-null    int64  \n",
      " 1   Glucose                   756 non-null    float64\n",
      " 2   BloodPressure             733 non-null    float64\n",
      " 3   SkinThickness             541 non-null    float64\n",
      " 4   BMI                       757 non-null    float64\n",
      " 5   DiabetesPedigreeFunction  761 non-null    float64\n",
      " 6   Age                       761 non-null    int64  \n",
      " 7   Outcome                   761 non-null    int64  \n",
      "dtypes: float64(5), int64(3)\n",
      "memory usage: 53.5 KB\n"
     ]
    }
   ],
   "source": [
    "# Dropping rows with more than 2 missing values\n",
    "diabetes_clean = diabetes_clean.dropna(thresh=6)\n",
    "diabetes_clean.info()"
   ]
  },
  {
   "cell_type": "code",
   "execution_count": 124,
   "id": "359d9029",
   "metadata": {},
   "outputs": [
    {
     "data": {
      "image/png": "[encoded data removed]",
      "text/plain": [
       "<Figure size 1600x800 with 1 Axes>"
      ]
     },
     "metadata": {},
     "output_type": "display_data"
    }
   ],
   "source": [
    "# Visualizing missing data again for comparison\n",
    "plt.figure(figsize=(16, 8))\n",
    "sns.heatmap(diabetes_clean.isnull(), cmap=cmap, cbar=False, yticklabels=100)\n",
    "\n",
    "plt.show()"
   ]
  },
  {
   "cell_type": "code",
   "execution_count": 125,
   "id": "ea526b3e",
   "metadata": {},
   "outputs": [],
   "source": [
    "# Filling missing values with median values\n",
    "fill_data = diabetes_clean.copy()\n",
    "\n",
    "values = {\n",
    "    'Glucose': fill_data['Glucose'].median(),\n",
    "    'BloodPressure': fill_data['BloodPressure'].median(),\n",
    "    'SkinThickness': fill_data['SkinThickness'].median(),\n",
    "    'BMI': fill_data['BMI'].median(),\n",
    "}\n",
    "\n",
    "fill_data = fill_data.fillna(values)"
   ]
  },
  {
   "cell_type": "code",
   "execution_count": 126,
   "id": "c666fd7c",
   "metadata": {},
   "outputs": [
    {
     "data": {
      "image/png": "[encoded data removed]",
      "text/plain": [
       "<Figure size 1600x800 with 1 Axes>"
      ]
     },
     "metadata": {},
     "output_type": "display_data"
    },
    {
     "name": "stdout",
     "output_type": "stream",
     "text": [
      "<class 'pandas.core.frame.DataFrame'>\n",
      "Int64Index: 761 entries, 0 to 767\n",
      "Data columns (total 8 columns):\n",
      " #   Column                    Non-Null Count  Dtype  \n",
      "---  ------                    --------------  -----  \n",
      " 0   Pregnancies               761 non-null    int64  \n",
      " 1   Glucose                   761 non-null    float64\n",
      " 2   BloodPressure             761 non-null    float64\n",
      " 3   SkinThickness             761 non-null    float64\n",
      " 4   BMI                       761 non-null    float64\n",
      " 5   DiabetesPedigreeFunction  761 non-null    float64\n",
      " 6   Age                       761 non-null    int64  \n",
      " 7   Outcome                   761 non-null    int64  \n",
      "dtypes: float64(5), int64(3)\n",
      "memory usage: 53.5 KB\n"
     ]
    }
   ],
   "source": [
    "plt.figure(figsize=(16, 8))\n",
    "sns.heatmap(fill_data.isnull(), cmap=cmap, cbar=False, yticklabels=100)\n",
    "\n",
    "plt.show()\n",
    "fill_data.info()"
   ]
  },
  {
   "cell_type": "code",
   "execution_count": 127,
   "id": "5852cede",
   "metadata": {},
   "outputs": [],
   "source": [
    "def outliers_iqr(data, feature, log_scale=False, left=1.5, right=1.5):\n",
    "    '''\n",
    "    This function identifies outliers using the interquartile range (IQR) method.\n",
    "    It takes a dataset, a feature name, and optional parameters for log scaling, left and right factors for bounds calculation.\n",
    "    Left and right factors are 1.5 by default, according to the Tukey's rule.\n",
    "    It calculates the range between the first quartile (Q1) and the third quartile (Q3).\n",
    "    Any data point below Q1 minus a specified factor or above Q3 plus a specified factor is considered an outlier.\n",
    "    \n",
    "    It returns two DataFrames: 'outliers' and 'cleaned'.\n",
    "    'outliers' contains rows with values outside the calculated bounds, and 'cleaned' contains rows within the bounds.\n",
    "    '''\n",
    "    \n",
    "    if log_scale:\n",
    "        x = np.log(data[feature])\n",
    "    else:\n",
    "        x = data[feature]\n",
    "    quartile_1, quartile_3 = x.quantile(0.25), x.quantile(0.75),\n",
    "    iqr = quartile_3 - quartile_1\n",
    "    lower_bound = quartile_1 - (iqr * left)\n",
    "    upper_bound = quartile_3 + (iqr * right)\n",
    "    outliers = data[(x < lower_bound) | (x > upper_bound)]\n",
    "    cleaned = data[(x > lower_bound) & (x < upper_bound)]\n",
    "    return outliers, cleaned"
   ]
  },
  {
   "cell_type": "code",
   "execution_count": 128,
   "id": "458c414f",
   "metadata": {},
   "outputs": [
    {
     "name": "stdout",
     "output_type": "stream",
     "text": [
      "Number of outliers according to Tukey's method in Glucose: 0\n",
      "Number of clean data records (inliers): 761 \n",
      "\n",
      "Number of outliers according to Tukey's method in BloodPressure: 14\n",
      "Number of clean data records (inliers): 744 \n",
      "\n",
      "Number of outliers according to Tukey's method in SkinThickness: 87\n",
      "Number of clean data records (inliers): 674 \n",
      "\n",
      "Number of outliers according to Tukey's method in DiabetesPedigreeFunction: 29\n",
      "Number of clean data records (inliers): 732 \n",
      "\n",
      "Number of outliers according to Tukey's method in BMI: 8\n",
      "Number of clean data records (inliers): 753 \n",
      "\n"
     ]
    }
   ],
   "source": [
    "for i in ['Glucose', 'BloodPressure', 'SkinThickness', 'DiabetesPedigreeFunction', 'BMI']:\n",
    "    outliers, cleaned = outliers_iqr(fill_data, i)\n",
    "    print(f\"Number of outliers according to Tukey's method in {i}: {outliers.shape[0]}\")\n",
    "    print(f'Number of clean data records (inliers): {cleaned.shape[0]}', '\\n')"
   ]
  },
  {
   "cell_type": "code",
   "execution_count": 129,
   "id": "844ae151",
   "metadata": {},
   "outputs": [],
   "source": [
    "def outliers_z_score(data, feature, log_scale=False, left=3, right=3):\n",
    "    '''\n",
    "    The outliers_z_score function identifies outliers using the z-score method.\n",
    "    It calculates the z-score for each value in a specified feature of a dataset,\n",
    "    which represents how many standard deviations away from the mean the value is.\n",
    "    By defining upper and lower bounds based on a specified number of standard deviations from the mean,\n",
    "    values that fall outside these bounds are considered outliers.\n",
    "    \n",
    "    It returns two DataFrames: 'outliers' and 'cleaned'.\n",
    "    'outliers' contains rows with values outside the calculated bounds, and 'cleaned' contains rows within the bounds.\n",
    "    '''\n",
    "    if log_scale:\n",
    "        x = np.log(data[feature])\n",
    "    else:\n",
    "        x = data[feature]\n",
    "    mu = x.mean()\n",
    "    sigma = x.std()\n",
    "    lower_bound = mu - left * sigma\n",
    "    upper_bound = mu + right * sigma\n",
    "    outliers = data[(x < lower_bound) | (x > upper_bound)]\n",
    "    cleaned = data[(x > lower_bound) & (x < upper_bound)]\n",
    "    return outliers, cleaned"
   ]
  },
  {
   "cell_type": "code",
   "execution_count": 131,
   "id": "34a9bb84",
   "metadata": {},
   "outputs": [
    {
     "name": "stdout",
     "output_type": "stream",
     "text": [
      "Number of outliers by z-score in Glucose: 0\n",
      "Number of clean data records (inliers): 761 \n",
      "\n",
      "Number of outliers by z-score in BloodPressure: 8\n",
      "Number of clean data records (inliers): 753 \n",
      "\n",
      "Number of outliers by z-score in SkinThickness: 4\n",
      "Number of clean data records (inliers): 757 \n",
      "\n",
      "Number of outliers by z-score in DiabetesPedigreeFunction: 11\n",
      "Number of clean data records (inliers): 750 \n",
      "\n",
      "Number of outliers by z-score in BMI: 5\n",
      "Number of clean data records (inliers): 756 \n",
      "\n"
     ]
    }
   ],
   "source": [
    "for i in ['Glucose', 'BloodPressure', 'SkinThickness', 'DiabetesPedigreeFunction', 'BMI']:\n",
    "    outliers, cleaned = outliers_z_score(fill_data, i)\n",
    "    print(f\"Number of outliers by z-score in {i}: {outliers.shape[0]}\")\n",
    "    print(f'Number of clean data records (inliers): {cleaned.shape[0]}', '\\n')"
   ]
  }
 ],
 "metadata": {
  "kernelspec": {
   "display_name": "Python 3 (ipykernel)",
   "language": "python",
   "name": "python3"
  },
  "language_info": {
   "codemirror_mode": {
    "name": "ipython",
    "version": 3
   },
   "file_extension": ".py",
   "mimetype": "text/x-python",
   "name": "python",
   "nbconvert_exporter": "python",
   "pygments_lexer": "ipython3",
   "version": "3.10.7"
  }
 },
 "nbformat": 4,
 "nbformat_minor": 5
}
